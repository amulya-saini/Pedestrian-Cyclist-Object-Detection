{
 "cells": [
  {
   "cell_type": "code",
   "execution_count": null,
   "metadata": {},
   "outputs": [],
   "source": [
    "# importing required libraries\n",
    "import cv2\n",
    "import numpy as np"
   ]
  },
  {
   "cell_type": "code",
   "execution_count": null,
   "metadata": {},
   "outputs": [],
   "source": [
    "# Loading YOLO weights and configuration file\n",
    "net = cv2.dnn.readNet(\"yolov3.weights\", \"yolov3.cfg\")\n",
    "\n",
    "# Initializing an empty list to store class names\n",
    "classes = []\n",
    "\n",
    "# Reading class names from the \"coco.names\" file and adding them to the 'classes' list\n",
    "with open(\"coco.names\", \"r\") as f:\n",
    "    classes = [line.strip() for line in f]\n"
   ]
  },
  {
   "cell_type": "code",
   "execution_count": null,
   "metadata": {},
   "outputs": [],
   "source": [
    "# Loading the video\n",
    "cap = cv2.VideoCapture(\"production_id_4791196.mp4\") \n",
    "\n",
    "# Getting the frames per second (fps) of the video\n",
    "fps = cap.get(cv2.CAP_PROP_FPS)\n",
    "\n",
    "# Getting the width of the frames in the video\n",
    "width = int(cap.get(cv2.CAP_PROP_FRAME_WIDTH))\n",
    "\n",
    "# Getting the height of the frames in the video\n",
    "height = int(cap.get(cv2.CAP_PROP_FRAME_HEIGHT))\n"
   ]
  },
  {
   "cell_type": "code",
   "execution_count": null,
   "metadata": {},
   "outputs": [],
   "source": [
    "# Defining the codec for video encoding (XVID is a common choice)\n",
    "fourcc = cv2.VideoWriter_fourcc(*'XVID')\n",
    "\n",
    "# Creating a VideoWriter object to write the annotated frames to a new video file\n",
    "# Parameters: output file name, codec, frames per second (fps), frame size (width, height)\n",
    "output_video = cv2.VideoWriter(\"annotated.avi\", fourcc, fps, (width, height))\n"
   ]
  },
  {
   "cell_type": "code",
   "execution_count": null,
   "metadata": {},
   "outputs": [],
   "source": [
    "# opening the video capture device\n",
    "while cap.isOpened():\n",
    "    \n",
    "    # reading a frame from the video capture\n",
    "    ret, frame = cap.read()\n",
    "\n",
    "    # Breaking the loop if there are no more frames\n",
    "    if not ret:\n",
    "        break\n",
    "\n",
    "    # Converting the frame to a blob for processing with a neural network\n",
    "    blob = cv2.dnn.blobFromImage(frame, 0.00392, (416, 416), (0, 0, 0), True, crop=False)\n",
    "\n",
    "    # Setting the input blob to the neural network\n",
    "    net.setInput(blob)\n",
    "\n",
    "    # Getting the names of the output layers of the neural network\n",
    "    output_layers = net.getUnconnectedOutLayersNames()\n",
    "\n",
    "    # Performing a forward pass through the neural network\n",
    "    outs = net.forward(output_layers)\n",
    "\n",
    "    # Extracting information from the network's output\n",
    "    for out in outs:\n",
    "        \n",
    "        for detection in out:\n",
    "            \n",
    "            # Extracting confidence scores and class IDs from the output\n",
    "            scores = detection[5:]\n",
    "            \n",
    "            class_id = np.argmax(scores)\n",
    "            \n",
    "            confidence = scores[class_id]\n",
    "\n",
    "            # Checking if the detected object is a human with high confidence\n",
    "            if confidence > 0.9 and (classes[class_id] == 'person' or classes[class_id] == 'bicycle'):\n",
    "                \n",
    "                # Extracting bounding box coordinates\n",
    "                center_x, center_y, w, h = (detection[0:4] * np.array([width, height, width, height])).astype('int')\n",
    "                \n",
    "                x, y = int(center_x - w/2), int(center_y - h/2)\n",
    "\n",
    "                # Drawing a bounding box around the detected person\n",
    "                cv2.rectangle(frame, (x, y), (x+w, y+h), (0, 255, 0), 2)\n",
    "\n",
    "    # Writing the frame with bounding boxes to the output video\n",
    "    output_video.write(frame)\n",
    "\n",
    "    # Displaying the annotated video frame in a seperate window\n",
    "    cv2.imshow('Pre-Annotated Video', frame)\n",
    "\n",
    "    # Checking for the 'Esc' key press to exit the loop\n",
    "    if cv2.waitKey(1) == 27:\n",
    "        break\n",
    "\n",
    "# Releases video capture and output video resources\n",
    "cap.release()\n",
    "output_video.release()\n",
    "cv2.destroyAllWindows()"
   ]
  }
 ],
 "metadata": {
  "kernelspec": {
   "display_name": "base",
   "language": "python",
   "name": "python3"
  },
  "language_info": {
   "codemirror_mode": {
    "name": "ipython",
    "version": 3
   },
   "file_extension": ".py",
   "mimetype": "text/x-python",
   "name": "python",
   "nbconvert_exporter": "python",
   "pygments_lexer": "ipython3",
   "version": "3.10.9"
  }
 },
 "nbformat": 4,
 "nbformat_minor": 2
}
